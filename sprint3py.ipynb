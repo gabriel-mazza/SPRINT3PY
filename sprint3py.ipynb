{
 "cells": [
  {
   "cell_type": "code",
   "execution_count": 22,
   "metadata": {},
   "outputs": [
    {
     "data": {
      "application/vnd.jupyter.widget-view+json": {
       "model_id": "0d9e0bbf10844827990a90f5225839b4",
       "version_major": 2,
       "version_minor": 0
      },
      "text/plain": [
       "Dropdown(description='Piloto:', options=('P. Wehrlein', 'M. Evans', 'N. Cassidy', 'O. Rowland', 'J. Vergne', '…"
      ]
     },
     "metadata": {},
     "output_type": "display_data"
    },
    {
     "data": {
      "application/vnd.jupyter.widget-view+json": {
       "model_id": "e1789f7462ee49dd9b46365b4ab0b40a",
       "version_major": 2,
       "version_minor": 0
      },
      "text/plain": [
       "IntSlider(value=5, description='Experiência:', max=12, min=1)"
      ]
     },
     "metadata": {},
     "output_type": "display_data"
    },
    {
     "data": {
      "application/vnd.jupyter.widget-view+json": {
       "model_id": "50a921849ffc4a90a0ac078a223f649f",
       "version_major": 2,
       "version_minor": 0
      },
      "text/plain": [
       "Dropdown(description='Tipo de Pista:', options=('Urbana', 'Circuito', 'Misturada'), value='Urbana')"
      ]
     },
     "metadata": {},
     "output_type": "display_data"
    },
    {
     "data": {
      "application/vnd.jupyter.widget-view+json": {
       "model_id": "7dc335d493c24f1983c572dae01e948c",
       "version_major": 2,
       "version_minor": 0
      },
      "text/plain": [
       "Dropdown(description='Condições Climáticas:', options=('Seco', 'Úmido'), value='Seco')"
      ]
     },
     "metadata": {},
     "output_type": "display_data"
    },
    {
     "data": {
      "application/vnd.jupyter.widget-view+json": {
       "model_id": "5b37eb00b3fb485491d71649f4356155",
       "version_major": 2,
       "version_minor": 0
      },
      "text/plain": [
       "Button(description='Calcular Pontos', style=ButtonStyle())"
      ]
     },
     "metadata": {},
     "output_type": "display_data"
    }
   ],
   "source": [
    "import pandas as pd\n",
    "import ipywidgets as widgets\n",
    "from IPython.display import display, clear_output\n",
    "\n",
    "    \n",
    "def carregar_dados(arquivo):\n",
    "    return pd.read_csv(arquivo)\n",
    "\n",
    "def prever_media_pontos(dados, experiencia, tipo_pista_preferido, condicoes_climaticas):\n",
    "    \n",
    "    dados['Tipo de Pista Preferido'] = dados['Tipo de Pista Preferido'].str.strip().str.lower()\n",
    "    dados['Condições Climáticas Favoráveis'] = dados['Condições Climáticas Favoráveis'].str.strip().str.lower()\n",
    "\n",
    "   \n",
    "    dados_filtrados = dados[\n",
    "        (dados['Experiência (anos)'] <= 12) &  \n",
    "        (dados['Tipo de Pista Preferido'] == tipo_pista_preferido.strip().lower()) &\n",
    "        (dados['Condições Climáticas Favoráveis'] == condicoes_climaticas.strip().lower())\n",
    "    ]\n",
    "    \n",
    "   \n",
    "    if not dados_filtrados.empty:\n",
    "       \n",
    "        media_pontos = dados_filtrados['Média de Pontos por Corrida'].mean()\n",
    "    else:\n",
    "\n",
    "        media_pontos = dados['Média de Pontos por Corrida'].mean()\n",
    "    \n",
    "    return media_pontos\n",
    "\n",
    "\n",
    "def gerar_relatorio(nome_piloto, experiencia, tipo_pista_preferido, condicoes_climaticas, media_pontos):\n",
    "    clear_output()\n",
    "    print(\"\\n--- Relatório de Previsão ---\")\n",
    "    print(f\"Piloto: {nome_piloto}\")\n",
    "    print(f\"Experiência: {experiencia} anos\")\n",
    "    print(f\"Tipo de Pista Preferido: {tipo_pista_preferido}\")\n",
    "    print(f\"Condições Climáticas Favoráveis: {condicoes_climaticas}\")\n",
    "    print(f\"Média de Pontos Prevista: {media_pontos:.2f}\\n\")\n",
    "\n",
    "def interagir():\n",
    "    \n",
    "    dados = carregar_dados('pilotos.csv')\n",
    "    \n",
    "    \n",
    "    nomes_pilotos = dados['Nome'].tolist()\n",
    "\n",
    "    \n",
    "    nome_piloto_widget = widgets.Dropdown(\n",
    "        options=nomes_pilotos, \n",
    "        description=\"Piloto:\"\n",
    "    )\n",
    "    \n",
    "    experiencia_widget = widgets.IntSlider(value=5, min=1, max=12, step=1, description=\"Experiência:\")  # Max 12 anos\n",
    "    \n",
    "    tipo_pista_widget = widgets.Dropdown(\n",
    "        options=['Urbana', 'Circuito', 'Misturada'],\n",
    "        description='Tipo de Pista:',\n",
    "    )\n",
    "    condicoes_widget = widgets.Dropdown(\n",
    "        options=['Seco', 'Úmido'],\n",
    "        description='Condições Climáticas:',\n",
    "    )\n",
    "    \n",
    "    \n",
    "    button = widgets.Button(description=\"Calcular Pontos\")\n",
    "    \n",
    "    def on_button_click(b):\n",
    "        nome_piloto = nome_piloto_widget.value\n",
    "        experiencia = experiencia_widget.value\n",
    "        tipo_pista_preferido = tipo_pista_widget.value\n",
    "        condicoes_climaticas = condicoes_widget.value\n",
    "        \n",
    "        media_pontos = prever_media_pontos(dados, experiencia, tipo_pista_preferido, condicoes_climaticas)\n",
    "        gerar_relatorio(nome_piloto, experiencia, tipo_pista_preferido, condicoes_climaticas, media_pontos)\n",
    "\n",
    "    button.on_click(on_button_click)\n",
    "\n",
    "  \n",
    "    display(nome_piloto_widget, experiencia_widget, tipo_pista_widget, condicoes_widget, button)\n",
    "\n",
    "\n",
    "interagir()\n"
   ]
  }
 ],
 "metadata": {
  "kernelspec": {
   "display_name": "Python 3",
   "language": "python",
   "name": "python3"
  },
  "language_info": {
   "codemirror_mode": {
    "name": "ipython",
    "version": 3
   },
   "file_extension": ".py",
   "mimetype": "text/x-python",
   "name": "python",
   "nbconvert_exporter": "python",
   "pygments_lexer": "ipython3",
   "version": "3.11.2"
  }
 },
 "nbformat": 4,
 "nbformat_minor": 2
}
